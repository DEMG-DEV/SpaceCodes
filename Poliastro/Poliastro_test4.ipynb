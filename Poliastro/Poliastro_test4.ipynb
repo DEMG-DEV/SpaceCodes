{
 "cells": [
  {
   "cell_type": "code",
   "execution_count": 1,
   "metadata": {},
   "outputs": [],
   "source": [
    "import numpy as np\n",
    "import matplotlib.pyplot as plt\n",
    "plt.ion()  # To immediately show plots\n",
    "\n",
    "from astropy import units as u\n",
    "\n",
    "from poliastro.bodies import Earth, Mars, Sun\n",
    "from poliastro.twobody import Orbit\n",
    "\n",
    "plt.style.use(\"seaborn\")  # Recommended"
   ]
  },
  {
   "cell_type": "code",
   "execution_count": 2,
   "metadata": {},
   "outputs": [
    {
     "data": {
      "text/plain": [
       "18255 x 21848 km x 28.0 deg (GCRS) orbit around Earth (♁) at epoch J2000.008 (TT)"
      ]
     },
     "execution_count": 2,
     "metadata": {},
     "output_type": "execute_result"
    }
   ],
   "source": [
    "from poliastro.twobody.propagation import cowell\n",
    "from numba import njit\n",
    "r0 = [-2384.46, 5729.01, 3050.46] * u.km\n",
    "v0 = [-7.36138, -2.98997, 1.64354] * u.km / u.s\n",
    "initial = Orbit.from_vectors(Earth, r0, v0)\n",
    "@njit\n",
    "def accel(t0, state, k):\n",
    "    \"\"\"Constant acceleration al igned with the velocity. \"\"\"\n",
    "    v_vec = state[3:]\n",
    "    norm_v = (v_vec * v_vec).sum() ** .5\n",
    "    return 1e-5 * v_vec / norm_v\n",
    "\n",
    "initial.propagate(3 * u.day, method=cowell, ad=accel)"
   ]
  },
  {
   "cell_type": "code",
   "execution_count": 3,
   "metadata": {},
   "outputs": [],
   "source": [
    "from poliastro.core.perturbations import J2_perturbation\n",
    "tof = (48.0 * u.h).to(u.s)\n",
    "final = initial.propagate(tof, method=cowell, ad=J2_perturbation, J2=Earth.J2.value, R=Earth.R.to(u.km).value)"
   ]
  },
  {
   "cell_type": "code",
   "execution_count": 4,
   "metadata": {},
   "outputs": [
    {
     "data": {
      "text/latex": [
       "$-0.17232668 \\; \\mathrm{\\frac{{}^{\\circ}}{h}}$"
      ],
      "text/plain": [
       "<Quantity -0.17232668 deg / h>"
      ]
     },
     "execution_count": 4,
     "metadata": {},
     "output_type": "execute_result"
    }
   ],
   "source": [
    "((final.raan - initial.raan) / tof).to(u.deg / u.h)"
   ]
  },
  {
   "cell_type": "code",
   "execution_count": 5,
   "metadata": {},
   "outputs": [
    {
     "data": {
      "text/latex": [
       "$0.28220397 \\; \\mathrm{\\frac{{}^{\\circ}}{h}}$"
      ],
      "text/plain": [
       "<Quantity 0.28220397 deg / h>"
      ]
     },
     "execution_count": 5,
     "metadata": {},
     "output_type": "execute_result"
    }
   ],
   "source": [
    "((final.argp - initial.argp) / tof).to(u.deg / u.h)"
   ]
  },
  {
   "cell_type": "code",
   "execution_count": null,
   "metadata": {},
   "outputs": [],
   "source": []
  }
 ],
 "metadata": {
  "kernelspec": {
   "display_name": "Python 3",
   "language": "python",
   "name": "python3"
  },
  "language_info": {
   "codemirror_mode": {
    "name": "ipython",
    "version": 3
   },
   "file_extension": ".py",
   "mimetype": "text/x-python",
   "name": "python",
   "nbconvert_exporter": "python",
   "pygments_lexer": "ipython3",
   "version": "3.6.6"
  }
 },
 "nbformat": 4,
 "nbformat_minor": 2
}
