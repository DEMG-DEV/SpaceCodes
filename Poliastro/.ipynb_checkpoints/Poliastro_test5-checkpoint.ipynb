{
 "cells": [
  {
   "cell_type": "code",
   "execution_count": 1,
   "metadata": {},
   "outputs": [],
   "source": [
    "import numpy as np\n",
    "import matplotlib.pyplot as plt\n",
    "plt.ion()  # To immediately show plots\n",
    "\n",
    "from astropy import units as u\n",
    "\n",
    "from poliastro.bodies import Earth, Mars, Sun\n",
    "from poliastro.twobody import Orbit\n",
    "\n",
    "plt.style.use(\"seaborn\")  # Recommended"
   ]
  },
  {
   "cell_type": "code",
   "execution_count": 2,
   "metadata": {},
   "outputs": [],
   "source": [
    "from poliastro.twobody.thrust import change_inc_ecc\n",
    "from poliastro.twobody import Orbit\n",
    "from poliastro.bodies import Earth\n",
    "from poliastro.twobody.propagation import cowell\n",
    "from astropy import units as u\n",
    "from astropy.time import Time\n",
    "ecc_0, ecc_f = 0.4, 0.0\n",
    "a = 42164\n",
    "inc_0, inc_f = 0.0, (20.0 * u.deg).to(u.rad).value\n",
    "argp = 0.0\n",
    "f = 2.4e-7\n",
    "k = Earth.k.to(u.km**3 / u.s**2).value\n",
    "s0 = Orbit.from_classical(Earth, a * u.km, ecc_0 * u.one, inc_0 * u.deg, 0 * u.deg, argp * u.deg, 0 * u.deg, epoch=Time(0, format='jd', scale='tdb'))\n",
    "a_d, _, _, t_f = change_inc_ecc(s0, ecc_f, inc_f, f)\n",
    "sf = s0.propagate(t_f * u.s, method=cowell, ad=a_d, rtol=1e-8)"
   ]
  },
  {
   "cell_type": "code",
   "execution_count": 3,
   "metadata": {},
   "outputs": [
    {
     "data": {
      "text/plain": [
       "(<Quantity 0.34719734 rad>, <Quantity 0.00894508>)"
      ]
     },
     "execution_count": 3,
     "metadata": {},
     "output_type": "execute_result"
    }
   ],
   "source": [
    "sf.inc, sf.ecc"
   ]
  },
  {
   "cell_type": "code",
   "execution_count": null,
   "metadata": {},
   "outputs": [],
   "source": []
  }
 ],
 "metadata": {
  "kernelspec": {
   "display_name": "Python 3",
   "language": "python",
   "name": "python3"
  },
  "language_info": {
   "codemirror_mode": {
    "name": "ipython",
    "version": 3
   },
   "file_extension": ".py",
   "mimetype": "text/x-python",
   "name": "python",
   "nbconvert_exporter": "python",
   "pygments_lexer": "ipython3",
   "version": "3.6.6"
  }
 },
 "nbformat": 4,
 "nbformat_minor": 2
}
